{
 "cells": [
  {
   "cell_type": "markdown",
   "id": "09aa1570",
   "metadata": {},
   "source": [
    "# Programming Assignment 4\n",
    "### Thomas Mackin\n",
    "#### Version 1\n",
    "#### CS-150-01 Fall 2022"
   ]
  },
  {
   "cell_type": "code",
   "execution_count": 1,
   "id": "9a01ae84",
   "metadata": {},
   "outputs": [
    {
     "name": "stdout",
     "output_type": "stream",
     "text": [
      "Enter the length of side A: 5\n",
      "Enter the length of side B: 5\n",
      "Enter the length of side C: 5\n",
      "The area of the triangle is approximately 10.825318 square units.\n",
      "The perimeter of the triangle is 15 linear units.\n"
     ]
    }
   ],
   "source": [
    "from math import sqrt\n",
    "def calcArea(a, b, c):\n",
    "    s = (a + b + c)/2\n",
    "    return sqrt(s * (s - a) * (s - b) * (s - c))\n",
    "\n",
    "def calcPerimeter(a, b, c):\n",
    "    return a + b + c\n",
    "\n",
    "a = int(input('Enter the length of side A: ') or '1')\n",
    "b = int(input('Enter the length of side B: ') or '1')\n",
    "c = int(input('Enter the length of side C: ') or '1')\n",
    "print('The area of the triangle is approximately', round(calcArea(a, b, c),6), 'square units.')\n",
    "print('The perimeter of the triangle is', calcPerimeter(a, b, c), 'linear units.')"
   ]
  },
  {
   "cell_type": "code",
   "execution_count": 2,
   "id": "7a12fe25",
   "metadata": {},
   "outputs": [
    {
     "name": "stdout",
     "output_type": "stream",
     "text": [
      "Enter the length of side A: 12\n",
      "Enter the length of side B: 16\n",
      "Enter the length of side C: 21\n",
      "The area of the triangle is approximately 95.451231 square units.\n",
      "The perimeter of the triangle is 49 linear units.\n"
     ]
    }
   ],
   "source": [
    "from math import sqrt\n",
    "def calcArea(a, b, c):\n",
    "    s = (a + b + c)/2\n",
    "    return sqrt(s * (s - a) * (s - b) * (s - c))\n",
    "\n",
    "def calcPerimeter(a, b, c):\n",
    "    return a + b + c\n",
    "\n",
    "a = int(input('Enter the length of side A: ') or '1')\n",
    "b = int(input('Enter the length of side B: ') or '1')\n",
    "c = int(input('Enter the length of side C: ') or '1')\n",
    "print('The area of the triangle is approximately', round(calcArea(a, b, c),6), 'square units.')\n",
    "print('The perimeter of the triangle is', calcPerimeter(a, b, c), 'linear units.')"
   ]
  },
  {
   "cell_type": "code",
   "execution_count": 3,
   "id": "5ab8f86f",
   "metadata": {},
   "outputs": [
    {
     "name": "stdout",
     "output_type": "stream",
     "text": [
      "Guess a number: 500\n",
      "Too high! Guess again\n",
      "Guess a number: 250\n",
      "Too high! Guess again\n",
      "Guess a number: 100\n",
      "Too Low! Guess again\n",
      "Guess a number: 175\n",
      "Too high! Guess again\n",
      "Guess a number: 150\n",
      "Too Low! Guess again\n",
      "Guess a number: 160\n",
      "Too Low! Guess again\n",
      "Guess a number: 170\n",
      "Too high! Guess again\n",
      "Guess a number: 165\n",
      "Too Low! Guess again\n",
      "Guess a number: 167\n",
      "Too Low! Guess again\n",
      "Guess a number: 169\n",
      "Too high! Guess again\n",
      "Guess a number: 168\n",
      "Correct!\n"
     ]
    }
   ],
   "source": [
    "def evaluateGuess():\n",
    "    import random\n",
    "    number = random.randint(1, 1000)\n",
    "    active = True\n",
    "    while active:\n",
    "        entered_number = int(input(\"Guess a number: \"))\n",
    "        if entered_number > number:\n",
    "            print(\"Too high! Guess again\" )\n",
    "        elif entered_number < number:\n",
    "            print(\"Too Low! Guess again\")\n",
    "        else:\n",
    "            print (\"Correct!\")\n",
    "            active=False\n",
    "evaluateGuess()"
   ]
  },
  {
   "cell_type": "code",
   "execution_count": 4,
   "id": "df036814",
   "metadata": {},
   "outputs": [
    {
     "name": "stdout",
     "output_type": "stream",
     "text": [
      "The mean temperature for the past  6 days is  30.83 degrees F.\n"
     ]
    }
   ],
   "source": [
    "def meanTemp(temps):\n",
    "    return sum(temps)/len(temps)\n",
    "temps = [30, 32, 12, 45, 32, 34]\n",
    "print(\"The mean temperature for the past \", len(temps), \"days is \", round(meanTemp(temps), 2), \"degrees F.\")"
   ]
  },
  {
   "cell_type": "code",
   "execution_count": 5,
   "id": "ac84a089",
   "metadata": {},
   "outputs": [
    {
     "name": "stdout",
     "output_type": "stream",
     "text": [
      "The mean temperature for the past  3 days is  31.67 degrees F.\n"
     ]
    }
   ],
   "source": [
    "def meanTemp(temps):\n",
    "    return sum(temps)/len(temps)\n",
    "temps = [29, 32, 34]\n",
    "print(\"The mean temperature for the past \", len(temps), \"days is \", round(meanTemp(temps), 2), \"degrees F.\")"
   ]
  }
 ],
 "metadata": {
  "kernelspec": {
   "display_name": "Python 3 (ipykernel)",
   "language": "python",
   "name": "python3"
  },
  "language_info": {
   "codemirror_mode": {
    "name": "ipython",
    "version": 3
   },
   "file_extension": ".py",
   "mimetype": "text/x-python",
   "name": "python",
   "nbconvert_exporter": "python",
   "pygments_lexer": "ipython3",
   "version": "3.9.12"
  }
 },
 "nbformat": 4,
 "nbformat_minor": 5
}
